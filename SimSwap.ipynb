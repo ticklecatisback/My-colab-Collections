{
  "nbformat": 4,
  "nbformat_minor": 0,
  "metadata": {
    "colab": {
      "provenance": [],
      "collapsed_sections": [],
      "toc_visible": true,
      "authorship_tag": "ABX9TyNdWoCHVBA69PSz7HlSigOb",
      "include_colab_link": true
    },
    "kernelspec": {
      "name": "python3",
      "display_name": "Python 3"
    },
    "language_info": {
      "name": "python"
    },
    "accelerator": "GPU",
    "gpuClass": "standard"
  },
  "cells": [
    {
      "cell_type": "markdown",
      "metadata": {
        "id": "view-in-github",
        "colab_type": "text"
      },
      "source": [
        "<a href=\"https://colab.research.google.com/github/ticklecatisback/My-colab-Collections/blob/main/SimSwap.ipynb\" target=\"_parent\"><img src=\"https://colab.research.google.com/assets/colab-badge.svg\" alt=\"Open In Colab\"/></a>"
      ]
    },
    {
      "cell_type": "markdown",
      "source": [
        "# This is a simple example of SimSwap on processing video with multiple faces. You can change the codes for inference based on our other scripts for image or single face swapping.\n",
        "\n",
        "* Code path: https://github.com/neuralchen/SimSwap\n",
        "\n",
        "* Paper path: https://arxiv.org/pdf/2106.06340v1.pdf or https://dl.acm.org/doi/10.1145/3394171.3413630\n",
        "\n",
        "* Original notebook: https://colab.research.google.com/github/neuralchen/SimSwap/blob/main/SimSwap%20colab.ipynb\n",
        "\n"
      ],
      "metadata": {
        "id": "YQ8aW3lKD_2s"
      }
    },
    {
      "cell_type": "code",
      "source": [
        "#@title Check CPU\n",
        "#@markdown make sure you are using a runtime with GPU.\n",
        "#@markdown you can check at Runtime/Change runtime type in the top bar.\n",
        "!nvidia-smi"
      ],
      "metadata": {
        "id": "ouayhw6E6Uj5",
        "cellView": "form"
      },
      "execution_count": null,
      "outputs": []
    },
    {
      "cell_type": "code",
      "source": [
        "#@title Setup\n",
        "import os, urllib.request\n",
        "HOME = os.path.expanduser(\"~\")\n",
        "pathDoneCMD = f'{HOME}/doneCMD.sh'\n",
        "if not os.path.exists(f\"{HOME}/.ipython/ttmg.py\"):\n",
        "    hCode = \"https://raw.githubusercontent.com/sudo-ken/FFmpeg-for-GDrive/master/ttmg.py\"\n",
        "    urllib.request.urlretrieve(hCode, f\"{HOME}/.ipython/ttmg.py\")\n",
        " \n",
        "from ttmg import (\n",
        "    loadingAn,\n",
        "    textAn,\n",
        ")\n",
        "\n",
        "loadingAn(name=\"lds\")\n",
        "textAn(\"Installing Dependencies...\", ty='twg')\n",
        "\n",
        "!git clone https://github.com/neuralchen/SimSwap\n",
        "!cd SimSwap && git pull\n",
        "!pip install insightface==0.2.1 onnxruntime moviepy\n",
        "!pip install googledrivedownloader\n",
        "!pip install imageio==2.4.1\n",
        "!pip install -U youtube-dl\n",
        "!pip install imageio-ffmpeg==0.4.5\n",
        "import os\n",
        "os.chdir(\"SimSwap\")\n",
        "!ls\n",
        "\n",
        "from google_drive_downloader import GoogleDriveDownloader\n",
        "\n",
        "### it seems that google drive link may not be permenant, you can find this ID from our open url.\n",
        "# GoogleDriveDownloader.download_file_from_google_drive(file_id='1TLNdIufzwesDbyr_nVTR7Zrx9oRHLM_N',\n",
        "#                                     dest_path='./arcface_model/arcface_checkpoint.tar')\n",
        "# GoogleDriveDownloader.download_file_from_google_drive(file_id='1PXkRiBUYbu1xWpQyDEJvGKeqqUFthJcI',\n",
        "#                                     dest_path='./checkpoints.zip')\n",
        "\n",
        "!wget -P ./arcface_model https://github.com/neuralchen/SimSwap/releases/download/1.0/arcface_checkpoint.tar\n",
        "!wget https://github.com/neuralchen/SimSwap/releases/download/1.0/checkpoints.zip\n",
        "!unzip ./checkpoints.zip  -d ./checkpoints\n",
        "!wget -P ./parsing_model/checkpoint https://github.com/neuralchen/SimSwap/releases/download/1.0/79999_iter.pth\n",
        "\n",
        "## You can upload filed manually\n",
        "# from google.colab import drive\n",
        "# drive.mount('/content/gdrive')\n",
        "\n",
        "### Now onedrive file can be downloaded in Colab directly!\n",
        "### If the link blow is not permanent, you can just download it from the \n",
        "### open url(can be found at [our repo]/doc/guidance/preparation.md) and copy the assigned download link here.\n",
        "### many thanks to woctezuma for this very useful help\n",
        "!wget --no-check-certificate \"https://sh23tw.dm.files.1drv.com/y4mmGiIkNVigkSwOKDcV3nwMJulRGhbtHdkheehR5TArc52UjudUYNXAEvKCii2O5LAmzGCGK6IfleocxuDeoKxDZkNzDRSt4ZUlEt8GlSOpCXAFEkBwaZimtWGDRbpIGpb_pz9Nq5jATBQpezBS6G_UtspWTkgrXHHxhviV2nWy8APPx134zOZrUIbkSF6xnsqzs3uZ_SEX_m9Rey0ykpx9w\" -O antelope.zip\n",
        "!unzip ./antelope.zip -d ./insightface_func/models/\n",
        "\n",
        "from IPython.display import HTML\n",
        "from base64 import b64encode\n",
        "def showVideo(path):\n",
        "  mp4 = open(str(path),'rb').read()\n",
        "  data_url = \"data:video/mp4;base64,\" + b64encode(mp4).decode()\n",
        "  return HTML(\"\"\"\n",
        "  <video width=700 controls>\n",
        "        <source src=\"%s\" type=\"video/mp4\">\n",
        "  </video>\n",
        "  \"\"\" % data_url)\n",
        "\n",
        "from IPython.display import clear_output"
      ],
      "metadata": {
        "id": "e2oSpOKrx5KW",
        "cellView": "form"
      },
      "execution_count": null,
      "outputs": []
    },
    {
      "cell_type": "code",
      "source": [
        "#@title Imports\n",
        "import cv2\n",
        "import torch\n",
        "import fractions\n",
        "import numpy as np\n",
        "from PIL import Image\n",
        "import torch.nn.functional as F\n",
        "from torchvision import transforms\n",
        "from models.models import create_model\n",
        "from options.test_options import TestOptions\n",
        "from insightface_func.face_detect_crop_multi import Face_detect_crop\n",
        "from util.videoswap import video_swap\n",
        "from util.add_watermark import watermark_image"
      ],
      "metadata": {
        "cellView": "form",
        "id": "4zrqZ-E9yc-7"
      },
      "execution_count": null,
      "outputs": []
    },
    {
      "cell_type": "code",
      "source": [
        "#@title STEP2: Select a Youtube Video\n",
        "video_url = 'https://www.youtube.com/watch?v=vAnWYLTdvfY' #@param {type:\"string\"}\n",
        "\n",
        "import shutil\n",
        "\n",
        "import os\n",
        "import os.path\n",
        "from IPython.display import clear_output\n",
        "import youtube_dl\n",
        "\n",
        "loadingAn(name=\"lds\")\n",
        "textAn(\"Downloading Video...\", ty='twg')\n",
        "if video_url:\n",
        "  !rm -f /content/SimSwap/demo_file/youtube.mp4\n",
        "  !youtube-dl -f \"bestvideo[ext=mp4][vcodec!*=av01][height<=360]+bestaudio[ext=m4a]/mp4[height<=360][vcodec!*=av01]/mp4[vcodec!*=av01]/mp4\" \"$video_url\" --merge-output-format mp4 -o /content/SimSwap/demo_file/youtube.mp4\n",
        "\n",
        "# cut the video\n",
        "textAn(\"Trimming Video...\", ty='twg')\n",
        "\n",
        "start_seconds = 0 #@param {type:\"number\"}\n",
        "duration_seconds =  60#@param {type:\"number\"}\n",
        "start_seconds = max(start_seconds,0)\n",
        "duration_seconds = max(duration_seconds,0)\n",
        "\n",
        "if duration_seconds:\n",
        "  !mv /content/SimSwap/demo_file/youtube.mp4 /content/SimSwap/demo_file/full_video.mp4\n",
        "  !ffmpeg -ss $start_seconds -t $duration_seconds -i /content/full_video.mp4 -f mp4 /content/SimSwap/demo_file/youtube.mp4 -y\n",
        "\n",
        "!rm -df youtube.mp4\n",
        "# download the youtube with the given ID\n",
        "\n",
        "#delete video.mp4 if already exits\n",
        "!rm -f /content/SimSwap/demo_file/ass.mp4\n",
        "\n",
        "\n",
        "#Preview trimmed video\n",
        "clear_output()\n",
        "print(\"Trimmed Video\")\n",
        "showVideo('/content/SimSwap/demo_file/youtube.mp4')"
      ],
      "metadata": {
        "id": "84EYq0eRyrcd",
        "cellView": "form"
      },
      "execution_count": null,
      "outputs": []
    },
    {
      "cell_type": "code",
      "source": [
        "#@title STEP2: Upload your Video File\n",
        "from google.colab import files\n",
        "import shutil\n",
        "uploaded = files.upload()\n",
        "dst ='input_vid.mp4' \n",
        "os.rename(list(uploaded.keys())[0], dst)\n",
        "\n",
        "loadingAn(name=\"lds\")\n",
        "textAn(\"Moving Video...\", ty='twg')\n",
        "\n",
        "PATH_TO_YOU_VIDEO = '/content/input_vid.mp4'\n",
        "import os, sys, re\n",
        "import subprocess\n",
        "\n",
        "shutil.move(\"/content/SimSwap/input_vid.mp4\", \"/content/SimSwap/demo_file\") \n",
        "#@markdown ### Trim the video (start, end) seconds\n",
        "#@markdown <i>Don't want to trim ? put <b>'start'</b> = -1 and <b>'end'</b> = -1</i>\n",
        "start =  -1#@param {type:\"integer\"}\n",
        "end =  -1#@param {type:\"integer\"}\n",
        "\n",
        "\n",
        "#@markdown <i>Note: the trimmed video must have face on all frames</i>\n",
        "\n",
        "# delete start end\n",
        "interval = end - start\n",
        "\n",
        "textAn(\"Triming Video...\", ty='twg')\n",
        "\n",
        "#delete if file already exists\n",
        "!rm -f '/content/input_fi.mp4'\n",
        "\n",
        "if start < 0 or end < 0:\n",
        "  #convert the video to specif location\n",
        "  !ffmpeg -i '$PATH_TO_YOU_VIDEO' '/content/SimSwap/demo_file/input_vid.mp4'\n",
        "else:\n",
        "  # cut the video\n",
        "  !ffmpeg -i '$PATH_TO_YOU_VIDEO' -ss {start} -t {interval} -async 1 '/content/SimSwap/demo_file/input_vid.mp4'\n",
        "from IPython.display import clear_output\n",
        "\n",
        "# Preview trimmed video\n",
        "clear_output()\n",
        "print(\"Input Video\")\n",
        "showVideo('/content/SimSwap/demo_file/input_vid.mp4')"
      ],
      "metadata": {
        "cellView": "form",
        "id": "KwM9jDvR4cGY"
      },
      "execution_count": null,
      "outputs": []
    },
    {
      "cell_type": "code",
      "source": [
        "#@title Delete old input Video file\n",
        "%rm /content/SimSwap/demo_file/input_vid.mp4\n",
        "from IPython.display import clear_output \n",
        "clear_output()"
      ],
      "metadata": {
        "cellView": "form",
        "id": "qpchlPjRB5Ss"
      },
      "execution_count": null,
      "outputs": []
    },
    {
      "cell_type": "code",
      "source": [
        "#@title STEP2: Select a Image\n",
        "image_url = 'https://media.bizj.us/view/img/11965652/glennfukuda-4196c-pr*1500xx1819-2425-61-0.jpg' #@param {type:\"string\"}\n",
        "import shutil\n",
        "import cv2\n",
        "from IPython.display import Image\n",
        "\n",
        "if image_url:\n",
        "  !wget \"$image_url\" -O /content/SimSwap/demo_file/image.png\n",
        "\n",
        "Image('/content/SimSwap/demo_file/image.png')"
      ],
      "metadata": {
        "cellView": "form",
        "id": "xl6yK3h_4-eV"
      },
      "execution_count": null,
      "outputs": []
    },
    {
      "cell_type": "code",
      "source": [
        "#@title STEP2+: Upload your Image\n",
        "import os\n",
        "from google.colab import files\n",
        "import cv2\n",
        "import shutil\n",
        "from IPython.display import Image\n",
        "uploaded = files.upload()\n",
        "dst ='image.png' \n",
        "os.rename(list(uploaded.keys())[0], dst)\n",
        "shutil.move(\"/content/SimSwap/image.png\", \"/content/SimSwap/demo_file\")\n",
        "\n",
        "Image('/content/SimSwap/demo_file/image.png')"
      ],
      "metadata": {
        "cellView": "form",
        "id": "mULkm_ZZ5Qaf"
      },
      "execution_count": null,
      "outputs": []
    },
    {
      "cell_type": "code",
      "source": [
        "#@title Delete old input Image file\n",
        "%rm /content/SimSwap/demo_file/image.png\n",
        "from IPython.display import clear_output \n",
        "clear_output()"
      ],
      "metadata": {
        "cellView": "form",
        "id": "dRKU_nHQCFym"
      },
      "execution_count": null,
      "outputs": []
    },
    {
      "cell_type": "code",
      "source": [
        "#@title Compose\n",
        "transformer = transforms.Compose([\n",
        "        transforms.ToTensor(),\n",
        "        #transforms.Normalize([0.485, 0.456, 0.406], [0.229, 0.224, 0.225])\n",
        "    ])\n",
        "\n",
        "transformer_Arcface = transforms.Compose([\n",
        "        transforms.ToTensor(),\n",
        "        transforms.Normalize([0.485, 0.456, 0.406], [0.229, 0.224, 0.225])\n",
        "    ])\n",
        "\n",
        "detransformer = transforms.Compose([\n",
        "        transforms.Normalize([0, 0, 0], [1/0.229, 1/0.224, 1/0.225]),\n",
        "        transforms.Normalize([-0.485, -0.456, -0.406], [1, 1, 1])\n",
        "    ])"
      ],
      "metadata": {
        "id": "LEsJCFsRzM8_",
        "cellView": "form"
      },
      "execution_count": 20,
      "outputs": []
    },
    {
      "cell_type": "code",
      "source": [
        "#@title Training\n",
        "training = False #@param {type:\"boolean\"}\n",
        "mask = True #@param {type:\"boolean\"}\n",
        "import tensorflow as tf\n",
        "import numpy as np\n",
        "from PIL import Image\n",
        "opt = TestOptions()\n",
        "opt.initialize()\n",
        "opt.parser.add_argument('-f') ## dummy arg to avoid bug\n",
        "opt = opt.parse()\n",
        "opt.pic_a_path = '/content/SimSwap/demo_file/image.png'\n",
        "opt.video_path = '/content/SimSwap/demo_file/input_vid.mp4' ## or replace it with video from your own google drive\n",
        "opt.output_path = '/content/SimSwap/output/demo.mp4'\n",
        "opt.temp_path = './tmp'\n",
        "opt.Arc_path = '/content/SimSwap/arcface_model/arcface_checkpoint.tar'\n",
        "opt.isTrain = False\n",
        "opt.use_mask = False  ## new feature up-to-date\n",
        "\n",
        "crop_size = opt.crop_size\n",
        "\n",
        "torch.nn.Module.dump_patches = True\n",
        "model = create_model(opt)\n",
        "model.eval()\n",
        "\n",
        "app = Face_detect_crop(name='antelope', root='./insightface_func/models')\n",
        "app.prepare(ctx_id= 0, det_thresh=0.6, det_size=(640,640))\n",
        "\n",
        "loadingAn(name=\"lds\")\n",
        "textAn(\"Analyzing Video...\", ty='twg')\n",
        "\n",
        "with torch.no_grad():\n",
        "    pic_a = opt.pic_a_path\n",
        "    # img_a = Image.open(pic_a).convert('RGB')\n",
        "    img_a_whole = cv2.imread(pic_a)\n",
        "    img_a_align_crop, _ = app.get(img_a_whole,crop_size)\n",
        "    img_a_align_crop_pil = Image.fromarray(cv2.cvtColor(img_a_align_crop[0],cv2.COLOR_BGR2RGB)) \n",
        "    img_a = transformer_Arcface(img_a_align_crop_pil)\n",
        "    img_id = img_a.view(-1, img_a.shape[0], img_a.shape[1], img_a.shape[2])\n",
        "\n",
        "    # convert numpy to tensor\n",
        "    img_id = img_id.cuda()\n",
        "\n",
        "    #create latent id\n",
        "    img_id_downsample = F.interpolate(img_id, size=(112,112))\n",
        "    latend_id = model.netArc(img_id_downsample)\n",
        "    latend_id = latend_id.detach().to('cpu')\n",
        "    latend_id = latend_id/np.linalg.norm(latend_id,axis=1,keepdims=True)\n",
        "    latend_id = latend_id.to('cuda')\n",
        "\n",
        "    video_swap(opt.video_path, latend_id, model, app, opt.output_path, temp_results_dir=opt.temp_path, use_mask=opt.use_mask)\n",
        "\n",
        "clear_output()\n",
        "print(\"Dowload this video from\", \"/content/SimSwap/output/demo.mp4\")\n",
        "showVideo('/content/SimSwap/output/demo.mp4')"
      ],
      "metadata": {
        "id": "5Xk9N9B26EmV",
        "cellView": "form"
      },
      "execution_count": null,
      "outputs": []
    },
    {
      "cell_type": "code",
      "source": [
        "#@title Download Video\n",
        "#@markdown 1. If it fails try running this cell again.\n",
        "#@markdown 2. Alternatively, you can manually download \"output.mp4\", \"combined.mp4\" from the folder on the left (click \"Refresh\" if missing).\n",
        "\n",
        "print() #see https://github.com/googlecolab/colabtools/issues/468\n",
        "from google.colab import files\n",
        "files.download('/content/SimSwap/output/demo.mp4') #fails for Firefox private window"
      ],
      "metadata": {
        "cellView": "form",
        "id": "xoF7kk5FBfK8"
      },
      "execution_count": null,
      "outputs": []
    },
    {
      "cell_type": "code",
      "source": [
        "#@title Delete old result file\n",
        "%rm /content/SimSwap/output/demo.mp4\n",
        "from IPython.display import clear_output \n",
        "clear_output()"
      ],
      "metadata": {
        "cellView": "form",
        "id": "SbmjYDhuBnwh"
      },
      "execution_count": null,
      "outputs": []
    },
    {
      "cell_type": "markdown",
      "source": [
        "# Image face swap coming soon"
      ],
      "metadata": {
        "id": "DpWQO97tCLb8"
      }
    }
  ]
}